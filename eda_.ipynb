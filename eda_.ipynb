{
 "cells": [
  {
   "cell_type": "code",
   "execution_count": 1,
   "metadata": {},
   "outputs": [],
   "source": [
    "import pandas as pd\n",
    "import plotly.graph_objects as go\n",
    "import sktime\n",
    "from sklearn.model_selection import train_test_split"
   ]
  },
  {
   "cell_type": "code",
   "execution_count": 2,
   "metadata": {},
   "outputs": [
    {
     "data": {
      "text/html": [
       "<div>\n",
       "<style scoped>\n",
       "    .dataframe tbody tr th:only-of-type {\n",
       "        vertical-align: middle;\n",
       "    }\n",
       "\n",
       "    .dataframe tbody tr th {\n",
       "        vertical-align: top;\n",
       "    }\n",
       "\n",
       "    .dataframe thead th {\n",
       "        text-align: right;\n",
       "    }\n",
       "</style>\n",
       "<table border=\"1\" class=\"dataframe\">\n",
       "  <thead>\n",
       "    <tr style=\"text-align: right;\">\n",
       "      <th></th>\n",
       "      <th>id</th>\n",
       "      <th>dates</th>\n",
       "      <th>values</th>\n",
       "      <th>label</th>\n",
       "    </tr>\n",
       "  </thead>\n",
       "  <tbody>\n",
       "    <tr>\n",
       "      <th>0</th>\n",
       "      <td>19114</td>\n",
       "      <td>[2016-01-01, 2016-02-01, 2016-03-01, 2016-04-0...</td>\n",
       "      <td>[-1.86, 0.79, 1.4, 0.15, 0.0, -1.24, -1.46, 3....</td>\n",
       "      <td>0.0</td>\n",
       "    </tr>\n",
       "    <tr>\n",
       "      <th>1</th>\n",
       "      <td>22769</td>\n",
       "      <td>[2016-05-01, 2016-06-01, 2016-07-01, 2016-08-0...</td>\n",
       "      <td>[-1.04, -3.48, 0.05, -0.13, -0.01, 0.03, 0.27,...</td>\n",
       "      <td>1.0</td>\n",
       "    </tr>\n",
       "    <tr>\n",
       "      <th>2</th>\n",
       "      <td>76935</td>\n",
       "      <td>[2017-03-01, 2017-04-01, 2017-05-01, 2017-06-0...</td>\n",
       "      <td>[0.28, 0.63, 0.06, 0.96, -1.4, -0.3, 1.62, 1.1...</td>\n",
       "      <td>0.0</td>\n",
       "    </tr>\n",
       "    <tr>\n",
       "      <th>3</th>\n",
       "      <td>66297</td>\n",
       "      <td>[2016-01-01, 2016-02-01, 2016-03-01, 2016-04-0...</td>\n",
       "      <td>[-0.33, 0.58, 1.1, -0.56, -0.95, -0.61, -0.7, ...</td>\n",
       "      <td>0.0</td>\n",
       "    </tr>\n",
       "    <tr>\n",
       "      <th>4</th>\n",
       "      <td>2191</td>\n",
       "      <td>[2016-01-01, 2016-02-01, 2016-03-01, 2016-04-0...</td>\n",
       "      <td>[1.31, 0.5, -0.54, 0.95, 0.65, 0.83, -1.55, -0...</td>\n",
       "      <td>0.0</td>\n",
       "    </tr>\n",
       "    <tr>\n",
       "      <th>5</th>\n",
       "      <td>59504</td>\n",
       "      <td>[2016-03-01, 2016-04-01, 2016-05-01, 2016-06-0...</td>\n",
       "      <td>[0.08, 0.88, 1.46, 0.59, -0.97, -0.41, 0.78, -...</td>\n",
       "      <td>0.0</td>\n",
       "    </tr>\n",
       "    <tr>\n",
       "      <th>6</th>\n",
       "      <td>49554</td>\n",
       "      <td>[2016-04-01, 2016-05-01, 2016-06-01, 2016-07-0...</td>\n",
       "      <td>[1.05, -0.28, 1.09, -0.69, 1.26, 1.79, 1.38, -...</td>\n",
       "      <td>0.0</td>\n",
       "    </tr>\n",
       "    <tr>\n",
       "      <th>7</th>\n",
       "      <td>58344</td>\n",
       "      <td>[2016-12-01, 2017-01-01, 2017-02-01, 2017-03-0...</td>\n",
       "      <td>[-0.36, -0.45, -0.4, -0.4, -0.45, -0.45, -0.45...</td>\n",
       "      <td>0.0</td>\n",
       "    </tr>\n",
       "    <tr>\n",
       "      <th>8</th>\n",
       "      <td>87449</td>\n",
       "      <td>[2016-01-01, 2016-02-01, 2016-03-01, 2016-04-0...</td>\n",
       "      <td>[2.92, 4.11, 3.39, -1.17, -0.79, 2.15, -0.22, ...</td>\n",
       "      <td>1.0</td>\n",
       "    </tr>\n",
       "    <tr>\n",
       "      <th>9</th>\n",
       "      <td>43415</td>\n",
       "      <td>[2016-02-01, 2016-03-01, 2016-04-01, 2016-05-0...</td>\n",
       "      <td>[-0.86, -0.05, -0.35, -0.67, -0.25, -0.8, -0.6...</td>\n",
       "      <td>1.0</td>\n",
       "    </tr>\n",
       "  </tbody>\n",
       "</table>\n",
       "</div>"
      ],
      "text/plain": [
       "      id  ... label\n",
       "0  19114  ...   0.0\n",
       "1  22769  ...   1.0\n",
       "2  76935  ...   0.0\n",
       "3  66297  ...   0.0\n",
       "4   2191  ...   0.0\n",
       "5  59504  ...   0.0\n",
       "6  49554  ...   0.0\n",
       "7  58344  ...   0.0\n",
       "8  87449  ...   1.0\n",
       "9  43415  ...   1.0\n",
       "\n",
       "[10 rows x 4 columns]"
      ]
     },
     "execution_count": 2,
     "metadata": {},
     "output_type": "execute_result"
    }
   ],
   "source": [
    "data = pd.read_parquet('train.parquet')\n",
    "data.head(10)"
   ]
  },
  {
   "cell_type": "markdown",
   "metadata": {},
   "source": [
    "\n",
    "## Анализ\n"
   ]
  },
  {
   "cell_type": "code",
   "execution_count": 3,
   "metadata": {},
   "outputs": [
    {
     "name": "stdout",
     "output_type": "stream",
     "text": [
      "<class 'pandas.core.frame.DataFrame'>\n",
      "RangeIndex: 80000 entries, 0 to 79999\n",
      "Data columns (total 4 columns):\n",
      " #   Column  Non-Null Count  Dtype  \n",
      "---  ------  --------------  -----  \n",
      " 0   id      80000 non-null  int64  \n",
      " 1   dates   80000 non-null  object \n",
      " 2   values  80000 non-null  object \n",
      " 3   label   80000 non-null  float64\n",
      "dtypes: float64(1), int64(1), object(2)\n",
      "memory usage: 2.4+ MB\n"
     ]
    }
   ],
   "source": [
    "data.info()"
   ]
  },
  {
   "cell_type": "markdown",
   "metadata": {},
   "source": [
    "Видим, что в датасете нет пустых значений"
   ]
  },
  {
   "cell_type": "code",
   "execution_count": 4,
   "metadata": {},
   "outputs": [
    {
     "data": {
      "text/plain": [
       "label\n",
       "0.0    57820\n",
       "1.0    22180\n",
       "dtype: int64"
      ]
     },
     "execution_count": 4,
     "metadata": {},
     "output_type": "execute_result"
    }
   ],
   "source": [
    "min_label = min(data.groupby(by='label').size())\n",
    "data.groupby(by='label').size()"
   ]
  },
  {
   "cell_type": "markdown",
   "metadata": {},
   "source": [
    "Выборка сильно несбалансирована, и один из способов сбалансировать ее - удалить строки, принадлежащие большему классу"
   ]
  },
  {
   "cell_type": "code",
   "execution_count": 5,
   "metadata": {},
   "outputs": [],
   "source": [
    "data = pd.concat([data[data.label == 0].sample(min_label), data[data.label == 1].sample(min_label)]).sample(frac=1).reset_index(drop=True)"
   ]
  },
  {
   "cell_type": "code",
   "execution_count": 6,
   "metadata": {},
   "outputs": [
    {
     "data": {
      "text/html": [
       "<div>\n",
       "<style scoped>\n",
       "    .dataframe tbody tr th:only-of-type {\n",
       "        vertical-align: middle;\n",
       "    }\n",
       "\n",
       "    .dataframe tbody tr th {\n",
       "        vertical-align: top;\n",
       "    }\n",
       "\n",
       "    .dataframe thead th {\n",
       "        text-align: right;\n",
       "    }\n",
       "</style>\n",
       "<table border=\"1\" class=\"dataframe\">\n",
       "  <thead>\n",
       "    <tr style=\"text-align: right;\">\n",
       "      <th></th>\n",
       "      <th>id</th>\n",
       "      <th>dates</th>\n",
       "      <th>values</th>\n",
       "      <th>label</th>\n",
       "      <th>ndates</th>\n",
       "      <th>nvalues</th>\n",
       "    </tr>\n",
       "  </thead>\n",
       "  <tbody>\n",
       "    <tr>\n",
       "      <th>0</th>\n",
       "      <td>20362</td>\n",
       "      <td>[2016-01-01, 2016-02-01, 2016-03-01, 2016-04-0...</td>\n",
       "      <td>[-0.38, -0.67, -0.52, 0.1, -0.12, -0.71, 1.2, ...</td>\n",
       "      <td>0.0</td>\n",
       "      <td>76</td>\n",
       "      <td>76</td>\n",
       "    </tr>\n",
       "    <tr>\n",
       "      <th>1</th>\n",
       "      <td>5637</td>\n",
       "      <td>[2016-02-01, 2016-03-01, 2016-04-01, 2016-05-0...</td>\n",
       "      <td>[2.83, 1.5, 1.01, 1.33, 2.36, 2.3, 2.83, 1.69,...</td>\n",
       "      <td>1.0</td>\n",
       "      <td>55</td>\n",
       "      <td>55</td>\n",
       "    </tr>\n",
       "    <tr>\n",
       "      <th>2</th>\n",
       "      <td>39931</td>\n",
       "      <td>[2016-01-01, 2016-02-01, 2016-03-01, 2016-04-0...</td>\n",
       "      <td>[1.6, 1.73, -0.96, -1.05, 1.52, -1.83, -1.35, ...</td>\n",
       "      <td>0.0</td>\n",
       "      <td>80</td>\n",
       "      <td>80</td>\n",
       "    </tr>\n",
       "    <tr>\n",
       "      <th>3</th>\n",
       "      <td>82658</td>\n",
       "      <td>[2016-01-01, 2016-02-01, 2016-03-01, 2016-04-0...</td>\n",
       "      <td>[2.36, -0.47, -1.28, -0.62, -1.95, 0.04, 0.6, ...</td>\n",
       "      <td>0.0</td>\n",
       "      <td>93</td>\n",
       "      <td>93</td>\n",
       "    </tr>\n",
       "    <tr>\n",
       "      <th>4</th>\n",
       "      <td>42577</td>\n",
       "      <td>[2016-11-01, 2016-12-01, 2017-01-01, 2017-02-0...</td>\n",
       "      <td>[1.84, 2.68, 2.2, 2.3, 0.71, 0.81, 1.0, -0.42,...</td>\n",
       "      <td>1.0</td>\n",
       "      <td>48</td>\n",
       "      <td>48</td>\n",
       "    </tr>\n",
       "    <tr>\n",
       "      <th>...</th>\n",
       "      <td>...</td>\n",
       "      <td>...</td>\n",
       "      <td>...</td>\n",
       "      <td>...</td>\n",
       "      <td>...</td>\n",
       "      <td>...</td>\n",
       "    </tr>\n",
       "    <tr>\n",
       "      <th>44355</th>\n",
       "      <td>64292</td>\n",
       "      <td>[2016-03-01, 2016-04-01, 2016-05-01, 2016-06-0...</td>\n",
       "      <td>[-0.37, -1.12, 1.18, 2.13, -0.35, 0.81, 0.29, ...</td>\n",
       "      <td>1.0</td>\n",
       "      <td>48</td>\n",
       "      <td>48</td>\n",
       "    </tr>\n",
       "    <tr>\n",
       "      <th>44356</th>\n",
       "      <td>86832</td>\n",
       "      <td>[2016-01-01, 2016-02-01, 2016-03-01, 2016-04-0...</td>\n",
       "      <td>[0.87, 0.37, 0.78, 0.57, 1.35, 0.98, 0.75, -0....</td>\n",
       "      <td>1.0</td>\n",
       "      <td>69</td>\n",
       "      <td>69</td>\n",
       "    </tr>\n",
       "    <tr>\n",
       "      <th>44357</th>\n",
       "      <td>37240</td>\n",
       "      <td>[2016-12-01, 2017-01-01, 2017-02-01, 2017-03-0...</td>\n",
       "      <td>[-1.61, -0.11, -0.2, -1.23, -1.11, -1.26, -1.0...</td>\n",
       "      <td>0.0</td>\n",
       "      <td>79</td>\n",
       "      <td>79</td>\n",
       "    </tr>\n",
       "    <tr>\n",
       "      <th>44358</th>\n",
       "      <td>89994</td>\n",
       "      <td>[2016-01-01, 2016-02-01, 2016-03-01, 2016-04-0...</td>\n",
       "      <td>[2.99, 1.26, 0.53, -0.03, -0.23, -1.2, -0.67, ...</td>\n",
       "      <td>1.0</td>\n",
       "      <td>94</td>\n",
       "      <td>94</td>\n",
       "    </tr>\n",
       "    <tr>\n",
       "      <th>44359</th>\n",
       "      <td>24228</td>\n",
       "      <td>[2016-01-01, 2016-02-01, 2016-03-01, 2016-04-0...</td>\n",
       "      <td>[2.11, 1.12, 0.68, 0.06, -0.99, 0.4, -3.41, -0...</td>\n",
       "      <td>1.0</td>\n",
       "      <td>79</td>\n",
       "      <td>79</td>\n",
       "    </tr>\n",
       "  </tbody>\n",
       "</table>\n",
       "<p>44360 rows × 6 columns</p>\n",
       "</div>"
      ],
      "text/plain": [
       "          id  ... nvalues\n",
       "0      20362  ...      76\n",
       "1       5637  ...      55\n",
       "2      39931  ...      80\n",
       "3      82658  ...      93\n",
       "4      42577  ...      48\n",
       "...      ...  ...     ...\n",
       "44355  64292  ...      48\n",
       "44356  86832  ...      69\n",
       "44357  37240  ...      79\n",
       "44358  89994  ...      94\n",
       "44359  24228  ...      79\n",
       "\n",
       "[44360 rows x 6 columns]"
      ]
     },
     "execution_count": 6,
     "metadata": {},
     "output_type": "execute_result"
    }
   ],
   "source": [
    "data['ndates'] = data['dates'].map(lambda x: len(x))\n",
    "data['nvalues'] = data['values'].map(lambda x: len(x))\n",
    "data"
   ]
  },
  {
   "cell_type": "code",
   "execution_count": 7,
   "metadata": {},
   "outputs": [
    {
     "data": {
      "text/plain": [
       "(44360, 6)"
      ]
     },
     "execution_count": 7,
     "metadata": {},
     "output_type": "execute_result"
    }
   ],
   "source": [
    "data[data['ndates'] == data['nvalues']].shape"
   ]
  },
  {
   "cell_type": "markdown",
   "metadata": {},
   "source": [
    "Количество дат и значений совпадает во всех строках"
   ]
  },
  {
   "cell_type": "code",
   "execution_count": 8,
   "metadata": {},
   "outputs": [
    {
     "data": {
      "text/html": [
       "<div>\n",
       "<style scoped>\n",
       "    .dataframe tbody tr th:only-of-type {\n",
       "        vertical-align: middle;\n",
       "    }\n",
       "\n",
       "    .dataframe tbody tr th {\n",
       "        vertical-align: top;\n",
       "    }\n",
       "\n",
       "    .dataframe thead th {\n",
       "        text-align: right;\n",
       "    }\n",
       "</style>\n",
       "<table border=\"1\" class=\"dataframe\">\n",
       "  <thead>\n",
       "    <tr style=\"text-align: right;\">\n",
       "      <th></th>\n",
       "      <th>id</th>\n",
       "      <th>label</th>\n",
       "      <th>ndates</th>\n",
       "      <th>nvalues</th>\n",
       "    </tr>\n",
       "  </thead>\n",
       "  <tbody>\n",
       "    <tr>\n",
       "      <th>count</th>\n",
       "      <td>44360.000000</td>\n",
       "      <td>44360.000000</td>\n",
       "      <td>44360.000000</td>\n",
       "      <td>44360.000000</td>\n",
       "    </tr>\n",
       "    <tr>\n",
       "      <th>mean</th>\n",
       "      <td>50106.687601</td>\n",
       "      <td>0.500000</td>\n",
       "      <td>64.224842</td>\n",
       "      <td>64.224842</td>\n",
       "    </tr>\n",
       "    <tr>\n",
       "      <th>std</th>\n",
       "      <td>28883.277198</td>\n",
       "      <td>0.500006</td>\n",
       "      <td>15.299820</td>\n",
       "      <td>15.299820</td>\n",
       "    </tr>\n",
       "    <tr>\n",
       "      <th>min</th>\n",
       "      <td>1.000000</td>\n",
       "      <td>0.000000</td>\n",
       "      <td>36.000000</td>\n",
       "      <td>36.000000</td>\n",
       "    </tr>\n",
       "    <tr>\n",
       "      <th>25%</th>\n",
       "      <td>25140.750000</td>\n",
       "      <td>0.000000</td>\n",
       "      <td>52.000000</td>\n",
       "      <td>52.000000</td>\n",
       "    </tr>\n",
       "    <tr>\n",
       "      <th>50%</th>\n",
       "      <td>49980.500000</td>\n",
       "      <td>0.500000</td>\n",
       "      <td>62.000000</td>\n",
       "      <td>62.000000</td>\n",
       "    </tr>\n",
       "    <tr>\n",
       "      <th>75%</th>\n",
       "      <td>75181.250000</td>\n",
       "      <td>1.000000</td>\n",
       "      <td>76.000000</td>\n",
       "      <td>76.000000</td>\n",
       "    </tr>\n",
       "    <tr>\n",
       "      <th>max</th>\n",
       "      <td>99999.000000</td>\n",
       "      <td>1.000000</td>\n",
       "      <td>97.000000</td>\n",
       "      <td>97.000000</td>\n",
       "    </tr>\n",
       "  </tbody>\n",
       "</table>\n",
       "</div>"
      ],
      "text/plain": [
       "                 id         label        ndates       nvalues\n",
       "count  44360.000000  44360.000000  44360.000000  44360.000000\n",
       "mean   50106.687601      0.500000     64.224842     64.224842\n",
       "std    28883.277198      0.500006     15.299820     15.299820\n",
       "min        1.000000      0.000000     36.000000     36.000000\n",
       "25%    25140.750000      0.000000     52.000000     52.000000\n",
       "50%    49980.500000      0.500000     62.000000     62.000000\n",
       "75%    75181.250000      1.000000     76.000000     76.000000\n",
       "max    99999.000000      1.000000     97.000000     97.000000"
      ]
     },
     "execution_count": 8,
     "metadata": {},
     "output_type": "execute_result"
    }
   ],
   "source": [
    "data.describe()"
   ]
  },
  {
   "cell_type": "markdown",
   "metadata": {},
   "source": [
    "\n",
    "## Преобразование данных\n"
   ]
  },
  {
   "cell_type": "markdown",
   "metadata": {},
   "source": [
    "Преобразуем таблицу в таблицу с мультииндексом и раскроем столбцы значений"
   ]
  },
  {
   "cell_type": "code",
   "execution_count": 31,
   "metadata": {},
   "outputs": [
    {
     "data": {
      "text/html": [
       "<div>\n",
       "<style scoped>\n",
       "    .dataframe tbody tr th:only-of-type {\n",
       "        vertical-align: middle;\n",
       "    }\n",
       "\n",
       "    .dataframe tbody tr th {\n",
       "        vertical-align: top;\n",
       "    }\n",
       "\n",
       "    .dataframe thead th {\n",
       "        text-align: right;\n",
       "    }\n",
       "</style>\n",
       "<table border=\"1\" class=\"dataframe\">\n",
       "  <thead>\n",
       "    <tr style=\"text-align: right;\">\n",
       "      <th></th>\n",
       "      <th></th>\n",
       "      <th>values</th>\n",
       "      <th>label</th>\n",
       "    </tr>\n",
       "    <tr>\n",
       "      <th>id</th>\n",
       "      <th>dates</th>\n",
       "      <th></th>\n",
       "      <th></th>\n",
       "    </tr>\n",
       "  </thead>\n",
       "  <tbody>\n",
       "    <tr>\n",
       "      <th rowspan=\"5\" valign=\"top\">20362</th>\n",
       "      <th>2016-01-01</th>\n",
       "      <td>-0.380000</td>\n",
       "      <td>0.0</td>\n",
       "    </tr>\n",
       "    <tr>\n",
       "      <th>2016-02-01</th>\n",
       "      <td>-0.670000</td>\n",
       "      <td>0.0</td>\n",
       "    </tr>\n",
       "    <tr>\n",
       "      <th>2016-03-01</th>\n",
       "      <td>-0.520000</td>\n",
       "      <td>0.0</td>\n",
       "    </tr>\n",
       "    <tr>\n",
       "      <th>2016-04-01</th>\n",
       "      <td>0.100000</td>\n",
       "      <td>0.0</td>\n",
       "    </tr>\n",
       "    <tr>\n",
       "      <th>2016-05-01</th>\n",
       "      <td>-0.120000</td>\n",
       "      <td>0.0</td>\n",
       "    </tr>\n",
       "    <tr>\n",
       "      <th>...</th>\n",
       "      <th>...</th>\n",
       "      <td>...</td>\n",
       "      <td>...</td>\n",
       "    </tr>\n",
       "    <tr>\n",
       "      <th rowspan=\"5\" valign=\"top\">24228</th>\n",
       "      <th>2022-03-01</th>\n",
       "      <td>0.622338</td>\n",
       "      <td>1.0</td>\n",
       "    </tr>\n",
       "    <tr>\n",
       "      <th>2022-04-01</th>\n",
       "      <td>1.162338</td>\n",
       "      <td>1.0</td>\n",
       "    </tr>\n",
       "    <tr>\n",
       "      <th>2022-05-01</th>\n",
       "      <td>-3.147662</td>\n",
       "      <td>1.0</td>\n",
       "    </tr>\n",
       "    <tr>\n",
       "      <th>2022-06-01</th>\n",
       "      <td>-3.207662</td>\n",
       "      <td>1.0</td>\n",
       "    </tr>\n",
       "    <tr>\n",
       "      <th>2022-07-01</th>\n",
       "      <td>-2.667662</td>\n",
       "      <td>1.0</td>\n",
       "    </tr>\n",
       "  </tbody>\n",
       "</table>\n",
       "<p>2845875 rows × 2 columns</p>\n",
       "</div>"
      ],
      "text/plain": [
       "                    values  label\n",
       "id    dates                      \n",
       "20362 2016-01-01 -0.380000    0.0\n",
       "      2016-02-01 -0.670000    0.0\n",
       "      2016-03-01 -0.520000    0.0\n",
       "      2016-04-01  0.100000    0.0\n",
       "      2016-05-01 -0.120000    0.0\n",
       "...                    ...    ...\n",
       "24228 2022-03-01  0.622338    1.0\n",
       "      2022-04-01  1.162338    1.0\n",
       "      2022-05-01 -3.147662    1.0\n",
       "      2022-06-01 -3.207662    1.0\n",
       "      2022-07-01 -2.667662    1.0\n",
       "\n",
       "[2845875 rows x 2 columns]"
      ]
     },
     "execution_count": 31,
     "metadata": {},
     "output_type": "execute_result"
    }
   ],
   "source": [
    "df = data.explode(['dates', 'values']).dropna()\n",
    "df['dates'] = df['dates'].apply(lambda x: pd.Timestamp(x))\n",
    "df.index = pd.MultiIndex.from_frame(df[['id', 'dates']])\n",
    "df['values'] = df['values'].astype(float)\n",
    "df = df.drop(labels=['id', 'dates', 'ndates', 'nvalues'], axis=1)\n",
    "df"
   ]
  },
  {
   "cell_type": "code",
   "execution_count": 32,
   "metadata": {},
   "outputs": [
    {
     "data": {
      "text/plain": [
       "label\n",
       "0.0    1436813\n",
       "1.0    1409062\n",
       "dtype: int64"
      ]
     },
     "execution_count": 32,
     "metadata": {},
     "output_type": "execute_result"
    }
   ],
   "source": [
    "df.groupby(by=df.label).size()"
   ]
  },
  {
   "cell_type": "code",
   "execution_count": 33,
   "metadata": {},
   "outputs": [],
   "source": [
    "train_ix, test_ix = train_test_split(df.index.levels[0], train_size=0.6)\n",
    "X_train = df.loc[train_ix][['values']]\n",
    "y_train = df.loc[train_ix].groupby(level=[0], sort=False)['label'].median()\n",
    "\n",
    "X_test = df.loc[test_ix][['values']]\n",
    "y_test = df.loc[test_ix].groupby(level=[0], sort=False)['label'].median()"
   ]
  },
  {
   "cell_type": "markdown",
   "metadata": {},
   "source": [
    "\n",
    "## Обучение\n"
   ]
  },
  {
   "cell_type": "code",
   "execution_count": 34,
   "metadata": {},
   "outputs": [
    {
     "name": "stdout",
     "output_type": "stream",
     "text": [
      " test accuracy score 0.802\n"
     ]
    }
   ],
   "source": [
    "from sktime.transformations.panel.padder import PaddingTransformer\n",
    "from sktime.classification.kernel_based import RocketClassifier\n",
    "\n",
    "clf = PaddingTransformer() * RocketClassifier(n_jobs=-1, n_features_per_kernel=4, max_dilations_per_kernel=8, num_kernels=1000, use_multivariate='no')\n",
    "clf.fit(X_train, y_train)\n",
    "clf.save('model')\n",
    "print(f' test accuracy score {clf.score(X_test, y_test):.3f}')"
   ]
  },
  {
   "cell_type": "markdown",
   "metadata": {},
   "source": [
    "\n",
    "### Результаты\n"
   ]
  },
  {
   "cell_type": "code",
   "execution_count": 35,
   "metadata": {},
   "outputs": [
    {
     "data": {
      "text/plain": [
       "<sklearn.metrics._plot.confusion_matrix.ConfusionMatrixDisplay at 0x1dbbd043f90>"
      ]
     },
     "execution_count": 35,
     "metadata": {},
     "output_type": "execute_result"
    },
    {
     "data": {
      "image/png": "[encoded data removed]",
      "text/plain": [
       "<Figure size 640x480 with 2 Axes>"
      ]
     },
     "metadata": {},
     "output_type": "display_data"
    }
   ],
   "source": [
    "from sklearn.metrics import ConfusionMatrixDisplay\n",
    "ConfusionMatrixDisplay.from_estimator(clf, X_test, y_test)"
   ]
  },
  {
   "cell_type": "code",
   "execution_count": 36,
   "metadata": {},
   "outputs": [
    {
     "data": {
      "text/plain": [
       "<sklearn.metrics._plot.roc_curve.RocCurveDisplay at 0x1dbbb75be50>"
      ]
     },
     "execution_count": 36,
     "metadata": {},
     "output_type": "execute_result"
    },
    {
     "data": {
      "image/png": "[encoded data removed]",
      "text/plain": [
       "<Figure size 640x480 with 1 Axes>"
      ]
     },
     "metadata": {},
     "output_type": "display_data"
    }
   ],
   "source": [
    "from sklearn.metrics import RocCurveDisplay\n",
    "RocCurveDisplay.from_estimator(clf, X_test, y_test)"
   ]
  }
 ],
 "metadata": {
  "kernelspec": {
   "display_name": "py-test",
   "language": "python",
   "name": "python3"
  },
  "language_info": {
   "codemirror_mode": {
    "name": "ipython",
    "version": 3
   },
   "file_extension": ".py",
   "mimetype": "text/x-python",
   "name": "python",
   "nbconvert_exporter": "python",
   "pygments_lexer": "ipython3",
   "version": "3.11.9"
  }
 },
 "nbformat": 4,
 "nbformat_minor": 2
}
